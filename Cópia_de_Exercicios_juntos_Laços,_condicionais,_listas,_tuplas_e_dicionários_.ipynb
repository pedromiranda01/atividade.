{
  "nbformat": 4,
  "nbformat_minor": 0,
  "metadata": {
    "colab": {
      "provenance": [],
      "include_colab_link": true
    },
    "kernelspec": {
      "name": "python3",
      "display_name": "Python 3"
    },
    "language_info": {
      "name": "python"
    }
  },
  "cells": [
    {
      "cell_type": "markdown",
      "metadata": {
        "id": "view-in-github",
        "colab_type": "text"
      },
      "source": [
        "<a href=\"https://colab.research.google.com/github/pedromiranda01/atividade./blob/main/C%C3%B3pia_de_Exercicios_juntos_La%C3%A7os%2C_condicionais%2C_listas%2C_tuplas_e_dicion%C3%A1rios_.ipynb\" target=\"_parent\"><img src=\"https://colab.research.google.com/assets/colab-badge.svg\" alt=\"Open In Colab\"/></a>"
      ]
    },
    {
      "cell_type": "markdown",
      "source": [
        "Lista de Exercícios unindo tudo que foi ensinado até o momento:\n",
        "\n",
        "\n",
        "*   Condicionais\n",
        "*   Laços de Reptição\n",
        "*   Listas\n",
        "*   Tuplas\n",
        "*   Dicionários\n",
        "*   Manipulação de Strings\n",
        "\n",
        "\n",
        "\n",
        "\n",
        "\n"
      ],
      "metadata": {
        "id": "JsFcwNObBRcd"
      }
    },
    {
      "cell_type": "markdown",
      "source": [
        "# Tuplas - Acesso e Desempacotamento\n",
        "\n",
        "1) Crie uma tupla contendo três tipos diferentes de dados: um número, uma string e uma lista. Use um laço de repetição para acessar e imprimir cada item da tupla. Além disso, dentro do laço, acesse e imprima o segundo item da lista que está dentro da tupla."
      ],
      "metadata": {
        "id": "HM91bKpkBqGI"
      }
    },
    {
      "cell_type": "code",
      "source": [
        "dados = (24, \"Cíntia\",[1,2,3])\n",
        "\n",
        "for i in dados:\n",
        "  print(i)"
      ],
      "metadata": {
        "colab": {
          "base_uri": "https://localhost:8080/"
        },
        "id": "sCbCOqPVYeRv",
        "outputId": "1562f547-2765-4a1e-dc63-72c47c44eca5"
      },
      "execution_count": null,
      "outputs": [
        {
          "output_type": "stream",
          "name": "stdout",
          "text": [
            "24\n",
            "Cíntia\n",
            "[1, 2, 3]\n"
          ]
        }
      ]
    },
    {
      "cell_type": "code",
      "source": [],
      "metadata": {
        "colab": {
          "base_uri": "https://localhost:8080/"
        },
        "id": "pZ8TJ7EFYsjg",
        "outputId": "421ac61c-a610-4c30-e322-382b944de8df"
      },
      "execution_count": null,
      "outputs": [
        {
          "output_type": "execute_result",
          "data": {
            "text/plain": [
              "tuple"
            ]
          },
          "metadata": {},
          "execution_count": 2
        }
      ]
    },
    {
      "cell_type": "markdown",
      "source": [
        "# Dicionários - Criação e Acesso\n",
        "## Cadastro de Pessoas e Análise de Alturas\n",
        "2) Solicite ao usuário para inserir o nome e a altura de várias pessoas. Preencha um dicionário com essas informações e depois encontre e imprima o nome e a altura da pessoa mais alta e da mais baixa."
      ],
      "metadata": {
        "id": "6vEHxGtjBxMi"
      }
    },
    {
      "cell_type": "code",
      "source": [
        "\n",
        "\n",
        "\n",
        "\n"
      ],
      "metadata": {
        "id": "MpJYauvTZR69",
        "colab": {
          "base_uri": "https://localhost:8080/"
        },
        "outputId": "7fd2229e-734a-4089-d486-26709f6477ee"
      },
      "execution_count": 1,
      "outputs": [
        {
          "output_type": "stream",
          "name": "stdout",
          "text": [
            "Digite o nome:k\n",
            "Digite a altura:1\n",
            "Digite o nome:o\n",
            "Digite a altura:2\n",
            "Digite o nome:sair\n",
            "A pessoa mais alta é o com 2.0 de altura\n",
            "A pessoa mais baixa é k com 1.0 de altura\n"
          ]
        }
      ]
    },
    {
      "cell_type": "markdown",
      "source": [
        "# Lista, laços e Condicionais\n",
        "3) Descrição: Crie uma listacom cinco números inteiros. Use um laço de repetição e uma condicional para imprimir apenas os números que são múltiplos de 3."
      ],
      "metadata": {
        "id": "FytD4QZyELAt"
      }
    },
    {
      "cell_type": "code",
      "source": [
        "numero = [1,2,3,4,5]\n",
        "\n",
        "for i in numero:\n",
        "  if i % 3 == 0:\n",
        "    print(i)"
      ],
      "metadata": {
        "id": "flVdicNI06iB"
      },
      "execution_count": null,
      "outputs": []
    },
    {
      "cell_type": "markdown",
      "source": [
        "# Manipulação de Strings e Condicionais\n",
        "4) Descrição: Crie uma string com uma frase. Use uma condicional para verificar se a frase contém a palavra \"Python\". Se sim, substitua a palavra \"Python\" por \"programação\" e imprima a nova frase."
      ],
      "metadata": {
        "id": "hwn3Fz8aEYSH"
      }
    },
    {
      "cell_type": "code",
      "source": [],
      "metadata": {
        "id": "w-l1VxFu1Boq"
      },
      "execution_count": null,
      "outputs": []
    },
    {
      "cell_type": "markdown",
      "source": [
        "# Simulação de Alfândega com Cadastro Dinâmico de Itens usando dicionário\n",
        "5) Simule uma situação de alfândega onde o funcionário cadastra itens novos encontrados na mala de uma pessoa que veio de uma viagem internacional. Após o cadastro de todos os itens, o programa imprime uma nota com todos os itens e seus preços, calcula o valor total e, se o valor total ultrapassar 500 dólares, calcula o valor de 60% a ser pago."
      ],
      "metadata": {
        "id": "hPP-JNTxEwFT"
      }
    },
    {
      "cell_type": "markdown",
      "source": [
        "# Identificação de Palavras Negativas em um Texto\n",
        "6) Você vai criar um programa em Python para analisar um texto e identificar palavras que expressam pensamentos negativos. Para isso, você usará uma lista de palavras negativas fornecida e verificará quais dessas palavras estão presentes no texto fornecido pelo usuário. Exemplo de palavras negtivas, acrescente mais na lista: # Lista de palavras negativas palavras_negativas = ['triste', 'deprimido', 'ansioso', 'desapontado', 'frustrado']"
      ],
      "metadata": {
        "id": "OH8D047zVsp-"
      }
    },
    {
      "cell_type": "code",
      "source": [],
      "metadata": {
        "id": "xDSrYWf_Vr8G"
      },
      "execution_count": null,
      "outputs": []
    },
    {
      "cell_type": "markdown",
      "source": [
        "# 1 - Use o método len para imprimir o comprimento da string.\n"
      ],
      "metadata": {
        "id": "FtxntLSL15sP"
      }
    },
    {
      "cell_type": "code",
      "source": [
        "x = \"Hello World\"\n",
        "print(len(x) )"
      ],
      "metadata": {
        "id": "Ozu5yS6_19Wy"
      },
      "execution_count": null,
      "outputs": []
    },
    {
      "cell_type": "markdown",
      "source": [
        "# 2 - Obtenha o primeiro caractere da string txt."
      ],
      "metadata": {
        "id": "4UlbxuPD2Bzc"
      }
    },
    {
      "cell_type": "code",
      "source": [
        "txt = \"Hello World\"\n",
        "x = txt[0]\n",
        "print(x)"
      ],
      "metadata": {
        "id": "davUkLKS2E7c"
      },
      "execution_count": null,
      "outputs": []
    },
    {
      "cell_type": "markdown",
      "source": [
        "# 3 - Obtenha os caracteres do índice 2 ao índice 4 ( llo)."
      ],
      "metadata": {
        "id": "-DkGd-nW2H4R"
      }
    },
    {
      "cell_type": "code",
      "source": [
        "txt = \"Hello World\"\n",
        "x = txt[2:5]\n",
        "print(x)"
      ],
      "metadata": {
        "id": "46m215Jk2Mcb"
      },
      "execution_count": null,
      "outputs": []
    },
    {
      "cell_type": "markdown",
      "source": [
        "# 4 - Converta o valor de txt para maiúsculas."
      ],
      "metadata": {
        "id": "v2e1EJOs2PUF"
      }
    },
    {
      "cell_type": "code",
      "source": [
        "txt = \"Hello World\"\n",
        "txt = txt.upper()\n",
        "print(txt)"
      ],
      "metadata": {
        "id": "pYro0-Ku2ScI"
      },
      "execution_count": null,
      "outputs": []
    },
    {
      "cell_type": "markdown",
      "source": [
        "# 5 - Conte quantas vezes aparece a palavra \"de\" na string abaixo"
      ],
      "metadata": {
        "id": "Wj3QHVcb2UyX"
      }
    },
    {
      "cell_type": "code",
      "source": [
        "txt = \"Eu gosto de vijar, tomar vinho, de estudar estudar programação, de estudar Pyhon\"\n",
        "txt = txt.count(\"de\")\n",
        "print(txt)"
      ],
      "metadata": {
        "id": "L_2h6rbw2Y5u"
      },
      "execution_count": null,
      "outputs": []
    },
    {
      "cell_type": "markdown",
      "source": [
        "# 6 - Separe a frase abaixo toda vez que encontrar um vírgula"
      ],
      "metadata": {
        "id": "copUYeRM2b9b"
      }
    },
    {
      "cell_type": "code",
      "source": [
        "txt = \"Eu gosto de vijar, tomar vinho, de estudar estudar programação, de estudar Pyhon\"\n",
        "txt = txt.split(\",\")\n",
        "print(txt)"
      ],
      "metadata": {
        "id": "SSs7GP7D2evJ"
      },
      "execution_count": null,
      "outputs": []
    },
    {
      "cell_type": "markdown",
      "source": [
        "#7 - Peça ao usuário uma frase e substitua todas as ocorrências de espaço por “#”."
      ],
      "metadata": {
        "id": "bK0VCm6I2hoy"
      }
    },
    {
      "cell_type": "code",
      "source": [
        "frase = input(\"Digite uma frase: \")\n",
        "frase = frase.replace(\" \", \"#\")\n",
        "print(frase)"
      ],
      "metadata": {
        "id": "zF91oYs12lJP"
      },
      "execution_count": null,
      "outputs": []
    },
    {
      "cell_type": "markdown",
      "source": [
        "# 8 - Faça um programa que retorne True se duas strings lidas do teclado são palíndromas mútuas, ou seja, se uma é igual à outra quando lida de traz para frente ou False, se não forem.\n",
        "# Por exemplo: amor e roma"
      ],
      "metadata": {
        "id": "yXKmSBwp2niI"
      }
    },
    {
      "cell_type": "code",
      "source": [
        "string1 = input(\"Digite a primeira string: \")\n",
        "string2 = input(\"Digite a segunda string: \")\n",
        "\n",
        "if string1 == string2[::-1]:\n",
        "    print(\"True\")\n",
        "else:\n",
        "    print(\"False\")"
      ],
      "metadata": {
        "id": "ux4h4jAN2qZ9"
      },
      "execution_count": null,
      "outputs": []
    },
    {
      "cell_type": "markdown",
      "source": [
        "# 9- Faça um programa que leia o nome do usuário e mostre o nome de traz para frente, utilizando somente letras maiúsculas."
      ],
      "metadata": {
        "id": "w6n6bapQ2tRZ"
      }
    },
    {
      "cell_type": "code",
      "source": [
        "nome = input(\"Digite seu nome: \")\n",
        "nome = nome.upper()\n",
        "nome = nome[::-1]\n",
        "print(nome)"
      ],
      "metadata": {
        "id": "Ap7NjijF2zyI"
      },
      "execution_count": null,
      "outputs": []
    }
  ]
}